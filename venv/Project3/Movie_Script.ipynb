{
 "cells": [
  {
   "cell_type": "code",
   "execution_count": null,
   "metadata": {},
   "outputs": [],
   "source": [
    "import io, os, sys, types"
   ]
  },
  {
   "cell_type": "code",
   "execution_count": null,
   "metadata": {},
   "outputs": [],
   "source": [
    "!{sys.executable} -m pip install regex\n",
    "!{sys.executable} -m pip install squarify\n",
    "!{sys.executable} -m pip install wordcloud"
   ]
  },
  {
   "cell_type": "code",
   "execution_count": null,
   "metadata": {},
   "outputs": [],
   "source": [
    "import matplotlib\n",
    "import numpy as np\n",
    "import pandas as pd\n",
    "import plotly.express as px\n",
    "from collections import Counter\n",
    "import matplotlib.pyplot as plt"
   ]
  },
  {
   "cell_type": "code",
   "execution_count": null,
   "metadata": {},
   "outputs": [],
   "source": [
    "df = pd.read_csv('Data/season1/e1.txt', sep=\":\", error_bad_lines=False, warn_bad_lines=False)"
   ]
  },
  {
   "cell_type": "markdown",
   "metadata": {},
   "source": [
    "# 1. Data Exploration"
   ]
  },
  {
   "cell_type": "code",
   "execution_count": null,
   "metadata": {},
   "outputs": [],
   "source": [
    "df.head()"
   ]
  },
  {
   "cell_type": "code",
   "execution_count": null,
   "metadata": {},
   "outputs": [],
   "source": [
    "df.info()"
   ]
  },
  {
   "cell_type": "code",
   "execution_count": null,
   "metadata": {},
   "outputs": [],
   "source": [
    "df.shape"
   ]
  },
  {
   "cell_type": "code",
   "execution_count": null,
   "metadata": {},
   "outputs": [],
   "source": [
    "df.person.unique()"
   ]
  },
  {
   "cell_type": "markdown",
   "metadata": {},
   "source": [
    "# 2. Dataframe formatting"
   ]
  },
  {
   "cell_type": "markdown",
   "metadata": {},
   "source": [
    "### Drop empty values"
   ]
  },
  {
   "cell_type": "code",
   "execution_count": null,
   "metadata": {},
   "outputs": [],
   "source": [
    "df = df.dropna()  \n",
    "# Rename columns\n",
    "df.columns = [\"person\", \"line\"]"
   ]
  },
  {
   "cell_type": "markdown",
   "metadata": {},
   "source": [
    "### Make all characters lowercase"
   ]
  },
  {
   "cell_type": "code",
   "execution_count": null,
   "metadata": {},
   "outputs": [],
   "source": [
    "df['person'] = df['person'].str.lower()\n",
    "df['line'] = df['line'].str.lower()"
   ]
  },
  {
   "cell_type": "markdown",
   "metadata": {},
   "source": [
    "## Clean the column with the name of the character \n",
    "We need to clean the names in the first column of the dataframe \n",
    "* JON/ROBB           ==> JON\n",
    "* JON (to BRAN)      ==> JON\n",
    "\n",
    "For this we use **Regex**. \n",
    "Regex stands for  **regular expression**. It is a sequence of characters that define a search pattern. Usually such patterns are used by string searching algorithms for \"find\" or \"find and replace\" operations on strings, or for input validation.\n",
    "\n",
    "You can find basic examples of Regex here: https://cs.lmu.edu/~ray/notes/regex/"
   ]
  },
  {
   "cell_type": "code",
   "execution_count": null,
   "metadata": {},
   "outputs": [],
   "source": [
    "import regex as re"
   ]
  },
  {
   "cell_type": "code",
   "execution_count": null,
   "metadata": {},
   "outputs": [],
   "source": [
    "df['person'] = df['person'].str.replace('/',' ') # Replace character for another\n",
    "df['person']=df['person'].str.replace(r\"\\(.*\\)\",\"\") # Replace everything between  brackets\n",
    "df['person']=df['person'].str.replace(r'^(\\s*(?:\\S+\\s+){1})\\S+',r'\\1') # Delete last name"
   ]
  },
  {
   "cell_type": "markdown",
   "metadata": {},
   "source": [
    "### Get rid of spaces that might be left before or after a name"
   ]
  },
  {
   "cell_type": "code",
   "execution_count": null,
   "metadata": {},
   "outputs": [],
   "source": [
    "df['person'] = df['person'].str.strip()"
   ]
  },
  {
   "cell_type": "markdown",
   "metadata": {},
   "source": [
    "## Clean the 'line' column"
   ]
  },
  {
   "cell_type": "code",
   "execution_count": null,
   "metadata": {},
   "outputs": [],
   "source": [
    "df['line'] = df['line'].str.replace(',','')\n",
    "df['line'] = df['line'].str.replace('.','')"
   ]
  },
  {
   "cell_type": "markdown",
   "metadata": {},
   "source": [
    "### Now we print the resulting dataframe to make sure that it is consistent and that we can start the analysis"
   ]
  },
  {
   "cell_type": "code",
   "execution_count": null,
   "metadata": {},
   "outputs": [],
   "source": [
    "df.head()"
   ]
  },
  {
   "cell_type": "markdown",
   "metadata": {},
   "source": [
    "# Count !? repetitions per character\n",
    "\n",
    "1. Use the **Lamba** function to count the ! repetitions per line and save them in a new column\n",
    "2. Use the **Lamba** function to count the ? repetitions per line and save them in a new column\n",
    "3. Use the **Groupby** function to group and sum the ?! used **by character**\n",
    "4. Plot the bar chart"
   ]
  },
  {
   "cell_type": "code",
   "execution_count": null,
   "metadata": {},
   "outputs": [],
   "source": [
    "df['exc'] = df['line'].map(lambda x: x.count(\"!\"))"
   ]
  },
  {
   "cell_type": "code",
   "execution_count": null,
   "metadata": {},
   "outputs": [],
   "source": [
    "df['ques'] = df['line'].map(lambda x: x.count(\"?\"))"
   ]
  },
  {
   "cell_type": "code",
   "execution_count": null,
   "metadata": {},
   "outputs": [],
   "source": [
    "df1 = df.groupby(['person'])['ques'].sum().reset_index()"
   ]
  },
  {
   "cell_type": "code",
   "execution_count": null,
   "metadata": {},
   "outputs": [],
   "source": [
    "fig = px.bar(df1,\n",
    "             x=\"person\",\n",
    "             y=\"ques\")\n",
    "fig.update_layout(xaxis={'categoryorder':'total descending'})"
   ]
  },
  {
   "cell_type": "code",
   "execution_count": null,
   "metadata": {},
   "outputs": [],
   "source": [
    "df['voice'] = df['ques']+df['exc']\n",
    "df2 = df.groupby(['person'])['voice'].sum().reset_index()\n",
    "\n",
    "fig = px.bar(df2,\n",
    "             x=\"person\",\n",
    "             y=\"voice\")\n",
    "fig.update_layout(xaxis={'categoryorder':'total descending'})"
   ]
  },
  {
   "cell_type": "markdown",
   "metadata": {},
   "source": [
    "## Count the most repeated words of a specific character\n",
    "\n",
    "1. Filter the dataframe and keep only the lines spoken by each character\n",
    "2. Create a string with all the words \n",
    "3. Use the Counter() function to count the repetitions and save them in a DATAFRAME\n",
    "4. Convert the dataframe into a dictionary with the words and their frequency"
   ]
  },
  {
   "cell_type": "code",
   "execution_count": null,
   "metadata": {},
   "outputs": [],
   "source": [
    "df3 = df[df['person']  == 'jon']"
   ]
  },
  {
   "cell_type": "code",
   "execution_count": null,
   "metadata": {},
   "outputs": [],
   "source": [
    "words = ''\n",
    "for i in df3.line.values:\n",
    "    words += '{} '.format(i.lower()) # save all words in a string"
   ]
  },
  {
   "cell_type": "code",
   "execution_count": null,
   "metadata": {},
   "outputs": [],
   "source": [
    "wd = pd.DataFrame(Counter(words.split()).most_common(200), columns=['word', 'frequency'])\n",
    "wd = wd.iloc[50:]"
   ]
  },
  {
   "cell_type": "code",
   "execution_count": null,
   "metadata": {},
   "outputs": [],
   "source": [
    "data = dict(zip(wd['word'].tolist(), wd['frequency'].tolist()))"
   ]
  },
  {
   "cell_type": "markdown",
   "metadata": {},
   "source": [
    "## Plot word cloud\n",
    "        **ADD WORDCLOUD DOCUMENTATION** "
   ]
  },
  {
   "cell_type": "code",
   "execution_count": null,
   "metadata": {},
   "outputs": [],
   "source": [
    "from wordcloud import WordCloud, STOPWORDS"
   ]
  },
  {
   "cell_type": "code",
   "execution_count": null,
   "metadata": {},
   "outputs": [],
   "source": [
    "# print(STOPWORDS) # Words we are blocking out"
   ]
  },
  {
   "cell_type": "code",
   "execution_count": null,
   "metadata": {},
   "outputs": [],
   "source": [
    "wc = WordCloud(background_color='white',\n",
    "                stopwords=STOPWORDS,\n",
    "                width=800,\n",
    "                height=400,\n",
    "                max_words=100).generate_from_frequencies(data)\n",
    "plt.figure(figsize=(10, 10))\n",
    "plt.imshow(wc, interpolation='bilinear')\n",
    "\n",
    "plt.axis('off')"
   ]
  },
  {
   "cell_type": "markdown",
   "metadata": {},
   "source": [
    "# Tree Map\n",
    "\n",
    "    ** ADD TREE MAP DOCUMENTATION **\n",
    "\n",
    "Steps to format the data and plot the tree map:\n",
    "\n",
    "1. Count the number of words spoken for each line of the script\n",
    "2. Group and sum the words spoken by each character \n",
    "3. Transform all the data to List() type\n",
    "4. Plot"
   ]
  },
  {
   "cell_type": "code",
   "execution_count": null,
   "metadata": {},
   "outputs": [],
   "source": [
    "df['words'] = [len(x.split()) for x in df['line'].tolist()]"
   ]
  },
  {
   "cell_type": "code",
   "execution_count": null,
   "metadata": {},
   "outputs": [],
   "source": [
    "df2 = df.groupby(['person'])['words'].sum().reset_index()"
   ]
  },
  {
   "cell_type": "code",
   "execution_count": null,
   "metadata": {},
   "outputs": [],
   "source": [
    "x1=pd.Series(df2['person'])\n",
    "x2=pd.Series(df2['words'])\n",
    "x2=x2.tolist()\n",
    "x1=x1.tolist()"
   ]
  },
  {
   "cell_type": "code",
   "execution_count": null,
   "metadata": {},
   "outputs": [],
   "source": [
    "import squarify\n",
    "squarify.plot(sizes=x2, label=x1,alpha=.7,bar_kwargs=dict(linewidth=1, edgecolor=\"#222222\") )"
   ]
  }
 ],
 "metadata": {
  "kernelspec": {
   "display_name": "Python 3",
   "language": "python",
   "name": "python3"
  },
  "language_info": {
   "codemirror_mode": {
    "name": "ipython",
    "version": 3
   },
   "file_extension": ".py",
   "mimetype": "text/x-python",
   "name": "python",
   "nbconvert_exporter": "python",
   "pygments_lexer": "ipython3",
   "version": "3.7.1"
  }
 },
 "nbformat": 4,
 "nbformat_minor": 2
}
