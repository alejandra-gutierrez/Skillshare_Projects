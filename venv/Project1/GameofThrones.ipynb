{
 "cells": [
  {
   "cell_type": "code",
   "execution_count": null,
   "metadata": {},
   "outputs": [],
   "source": [
    "import io, os, sys, types"
   ]
  },
  {
   "cell_type": "code",
   "execution_count": null,
   "metadata": {},
   "outputs": [],
   "source": [
    "!{sys.executable} -m pip install tabulate\n",
    "!{sys.executable} -m pip install pandas \n",
    "!{sys.executable} -m pip install numpy # Allows to perform basic arithmetic\n",
    "!{sys.executable} -m pip install xlrd # Excel module that allows to import the excel dataset file\n",
    "!{sys.executable} -m pip install plotly.express # Plotting library\n",
    "!{sys.executable} -m pip install matplotlib.pyplot # Plotting library\n",
    "!{sys.executable} -m pip install seaborn # Plotting library "
   ]
  },
  {
   "cell_type": "code",
   "execution_count": null,
   "metadata": {},
   "outputs": [],
   "source": [
    "import matplotlib.pyplot as plt\n",
    "import seaborn as sns\n",
    "import plotly.express as px\n",
    "import numpy as np\n",
    "import pandas as pd"
   ]
  },
  {
   "cell_type": "markdown",
   "metadata": {},
   "source": [
    "## The dataset we will use today\n",
    "The first dataset used to collect the ratings and views per episode can be found in Kaggle here:\n",
    "https://www.kaggle.com/dasbootstrapping/game-of-thrones-episode-data "
   ]
  },
  {
   "cell_type": "code",
   "execution_count": null,
   "metadata": {},
   "outputs": [],
   "source": [
    "df = pd.read_excel('Data/GameofThrones.xlsx')"
   ]
  },
  {
   "cell_type": "markdown",
   "metadata": {},
   "source": [
    "## 1. Get to know your dataframe\n",
    "### a) Print the first 5 rows of the dataframe"
   ]
  },
  {
   "cell_type": "code",
   "execution_count": null,
   "metadata": {},
   "outputs": [],
   "source": [
    "df.head()"
   ]
  },
  {
   "cell_type": "markdown",
   "metadata": {},
   "source": [
    "### b) Print the column names and data types in the dataframe"
   ]
  },
  {
   "cell_type": "code",
   "execution_count": null,
   "metadata": {},
   "outputs": [],
   "source": [
    "df.info()"
   ]
  },
  {
   "cell_type": "markdown",
   "metadata": {},
   "source": [
    "### c) Print the unique values present in a column of interest in your dataframe"
   ]
  },
  {
   "cell_type": "code",
   "execution_count": null,
   "metadata": {},
   "outputs": [],
   "source": [
    "df.Season.unique()"
   ]
  },
  {
   "cell_type": "markdown",
   "metadata": {},
   "source": [
    "### d) Print the shape of your dataframe, number of columns and rows"
   ]
  },
  {
   "cell_type": "code",
   "execution_count": null,
   "metadata": {},
   "outputs": [],
   "source": [
    "df.shape"
   ]
  },
  {
   "cell_type": "markdown",
   "metadata": {},
   "source": [
    "# 2. Dataframe formatting"
   ]
  },
  {
   "cell_type": "markdown",
   "metadata": {},
   "source": [
    "### Renaming column names"
   ]
  },
  {
   "cell_type": "code",
   "execution_count": null,
   "metadata": {},
   "outputs": [],
   "source": [
    "df.rename(columns={\"US viewers (million)\": \"views\", \"Imdb Rating\": \"Rating\",  'Notable Death Count':'Death_Count'}, inplace=True)"
   ]
  },
  {
   "cell_type": "markdown",
   "metadata": {},
   "source": [
    "### Delete columns we will use"
   ]
  },
  {
   "cell_type": "code",
   "execution_count": null,
   "metadata": {},
   "outputs": [],
   "source": [
    "df.drop(['IMDB votes','Runtime (mins)','Episode Number','IMDB Description','Writer','Director', 'Episode Name' ,'Original Air Date'], axis=1, inplace=True)\n",
    "df.head()"
   ]
  },
  {
   "cell_type": "markdown",
   "metadata": {},
   "source": [
    "## Introduction to the *groupby* function - we will use this a lot!\n",
    "Pandas **groupby()** function is used to split the data into groups based on some criteria.\n",
    "\n",
    "Two good examples of pandas grouping can be found here: \n",
    "https://www.geeksforgeeks.org/python-pandas-dataframe-groupby/"
   ]
  },
  {
   "cell_type": "code",
   "execution_count": null,
   "metadata": {},
   "outputs": [],
   "source": [
    "views = df.groupby(['Season']).mean().reset_index()\n",
    "views"
   ]
  },
  {
   "cell_type": "markdown",
   "metadata": {},
   "source": [
    "# 3. Data Visualization\n",
    "## Plotly express bar chart documentation\n",
    "https://plotly.com/python/bar-charts/"
   ]
  },
  {
   "cell_type": "code",
   "execution_count": null,
   "metadata": {},
   "outputs": [],
   "source": [
    "# Bar chart using Plotly Express\n",
    "fig = px.bar(views,\n",
    "             x='Season',\n",
    "             y= 'Rating',\n",
    "             color='views',\n",
    "             title = \"Views (in millions) per season\")\n",
    "fig.show()"
   ]
  },
  {
   "cell_type": "code",
   "execution_count": null,
   "metadata": {},
   "outputs": [],
   "source": [
    "# Create a new column which combines the season and episode as a string\n",
    "# This will be used later\n",
    "df[\"combination\"] = df[\"Season\"].astype(str) + \",\"+ df[\"Number in Season\"].astype(str)"
   ]
  },
  {
   "cell_type": "markdown",
   "metadata": {},
   "source": [
    "## Seaborn Scatter plot documentation:\n",
    "https://seaborn.pydata.org/generated/seaborn.scatterplot.html"
   ]
  },
  {
   "cell_type": "code",
   "execution_count": null,
   "metadata": {},
   "outputs": [],
   "source": [
    "ax = sns.scatterplot(data=df,\n",
    "                     x=\"views\", y=\"Rating\",\n",
    "                     hue=\"Season\")\n",
    "sns.set(rc={'figure.figsize':(5,10)})\n",
    "\n",
    "plt.show()"
   ]
  },
  {
   "cell_type": "markdown",
   "metadata": {},
   "source": [
    "# Add new Dataframe containing main battles\n"
   ]
  },
  {
   "cell_type": "markdown",
   "metadata": {},
   "source": [
    "### Create a dataset by hand"
   ]
  },
  {
   "cell_type": "code",
   "execution_count": null,
   "metadata": {},
   "outputs": [],
   "source": [
    "df2 = {'Name': [\"Frozen Lake Battle\", \" Loot Train Attack\",\n",
    "              \"Battle of Blackwater\", \"Battle of Castle Black\", \"Battle of the Bastards\", \"Fall of King’s Landing\",\n",
    "              \"Battle of Winterfell\", \"Dance of Dragons\", \"Stormbron\"],\n",
    "     'Episode': [6, 4,  9, 9, 9, 5, 3, 9, 2],\n",
    "     'Season': [7, 7,  2, 4, 6, 8, 8, 5, 7]\n",
    "     }\n",
    "\n",
    "df2 = pd.DataFrame(data=df2)\n",
    "df2"
   ]
  },
  {
   "cell_type": "code",
   "execution_count": null,
   "metadata": {},
   "outputs": [],
   "source": [
    "# Create a new column which combines the season and episode as a string\n",
    "df2[\"episode\"] = df2[\"Season\"].astype(str) + \",\"+ df2[\"Episode\"].astype(str)\n",
    "df2"
   ]
  },
  {
   "cell_type": "code",
   "execution_count": null,
   "metadata": {},
   "outputs": [],
   "source": [
    "df2.drop(['Season','Episode' ], axis=1, inplace=True)"
   ]
  },
  {
   "cell_type": "code",
   "execution_count": null,
   "metadata": {},
   "outputs": [],
   "source": [
    "merged = pd.merge(df, df2, on='episode', how='outer')\n",
    "merged = merged.replace(np.nan, '', regex=True)"
   ]
  },
  {
   "cell_type": "markdown",
   "metadata": {},
   "source": [
    "## Scatter Plot with Annotations"
   ]
  },
  {
   "cell_type": "code",
   "execution_count": null,
   "metadata": {},
   "outputs": [],
   "source": [
    "p1=sns.scatterplot(data=merged, x=\"views\", y=\"Rating\", hue = 'Season', legend=False)\n",
    "\n",
    "sns.set(rc={'figure.figsize':(5,9)})\n",
    "\n",
    "for n in range(0, merged.shape[0]):\n",
    "    p1.text(merged.views[n] + 0.2, merged.Rating[n], merged.Name[n], horizontalalignment='center', color='black',weight='semibold', fontsize=9)\n",
    "    \n",
    "  \n",
    "plt.show()"
   ]
  }
 ],
 "metadata": {
  "kernelspec": {
   "display_name": "Python 3",
   "language": "python",
   "name": "python3"
  },
  "language_info": {
   "codemirror_mode": {
    "name": "ipython",
    "version": 3
   },
   "file_extension": ".py",
   "mimetype": "text/x-python",
   "name": "python",
   "nbconvert_exporter": "python",
   "pygments_lexer": "ipython3",
   "version": "3.7.1"
  }
 },
 "nbformat": 4,
 "nbformat_minor": 2
}
