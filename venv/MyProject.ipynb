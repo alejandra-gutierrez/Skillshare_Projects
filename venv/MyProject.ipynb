{
 "cells": [
  {
   "cell_type": "markdown",
   "metadata": {},
   "source": [
    "# Welcome to Jupyter"
   ]
  },
  {
   "cell_type": "markdown",
   "metadata": {},
   "source": [
    "### This website will guide you your first Jupyter Notebooks : \n",
    "https://gtribello.github.io/mathNET/assets/notebook-writing.html"
   ]
  },
  {
   "cell_type": "markdown",
   "metadata": {},
   "source": [
    "## Importing libraries\n",
    "Python comes with a variety of pre-built libraries that perform different tasks. \n",
    "To get started we will install the most widely used libraries that are used in almost all data science applications. \n",
    "\n",
    "* Numpy: Is used to perform a variety of advanced mathematical functions.\n",
    "* Matplotlib.pyplot : This library is used to plot beautiful charts. \n",
    "    This allows us to get an intuition about our data. \n",
    "* Pandas: This library is used to easily import and view datasets. "
   ]
  },
  {
   "cell_type": "code",
   "execution_count": 1,
   "metadata": {},
   "outputs": [],
   "source": [
    "import io, os, sys, types"
   ]
  },
  {
   "cell_type": "code",
   "execution_count": 2,
   "metadata": {},
   "outputs": [
    {
     "name": "stdout",
     "output_type": "stream",
     "text": [
      "\u001b[33mDEPRECATION: Python 2.7 will reach the end of its life on January 1st, 2020. Please upgrade your Python as Python 2.7 won't be maintained after that date. A future version of pip will drop support for Python 2.7. More details about Python 2 support in pip, can be found at https://pip.pypa.io/en/latest/development/release-process/#python-2-support\u001b[0m\n",
      "Requirement already satisfied: pandas in /opt/anaconda2/lib/python2.7/site-packages (0.24.2)\n",
      "Requirement already satisfied: numpy>=1.12.0 in /opt/anaconda2/lib/python2.7/site-packages (from pandas) (1.16.5)\n",
      "Requirement already satisfied: pytz>=2011k in /opt/anaconda2/lib/python2.7/site-packages (from pandas) (2019.3)\n",
      "Requirement already satisfied: python-dateutil>=2.5.0 in /opt/anaconda2/lib/python2.7/site-packages (from pandas) (2.8.0)\n",
      "Requirement already satisfied: six>=1.5 in /opt/anaconda2/lib/python2.7/site-packages (from python-dateutil>=2.5.0->pandas) (1.12.0)\n",
      "\u001b[33mDEPRECATION: Python 2.7 will reach the end of its life on January 1st, 2020. Please upgrade your Python as Python 2.7 won't be maintained after that date. A future version of pip will drop support for Python 2.7. More details about Python 2 support in pip, can be found at https://pip.pypa.io/en/latest/development/release-process/#python-2-support\u001b[0m\n",
      "Requirement already satisfied: numpy in /opt/anaconda2/lib/python2.7/site-packages (1.16.5)\n",
      "\u001b[33mDEPRECATION: Python 2.7 will reach the end of its life on January 1st, 2020. Please upgrade your Python as Python 2.7 won't be maintained after that date. A future version of pip will drop support for Python 2.7. More details about Python 2 support in pip, can be found at https://pip.pypa.io/en/latest/development/release-process/#python-2-support\u001b[0m\n",
      "Requirement already satisfied: matplotlib in /opt/anaconda2/lib/python2.7/site-packages (2.2.3)\n",
      "Requirement already satisfied: numpy>=1.7.1 in /opt/anaconda2/lib/python2.7/site-packages (from matplotlib) (1.16.5)\n",
      "Requirement already satisfied: cycler>=0.10 in /opt/anaconda2/lib/python2.7/site-packages (from matplotlib) (0.10.0)\n",
      "Requirement already satisfied: pyparsing!=2.0.4,!=2.1.2,!=2.1.6,>=2.0.1 in /opt/anaconda2/lib/python2.7/site-packages (from matplotlib) (2.4.2)\n",
      "Requirement already satisfied: python-dateutil>=2.1 in /opt/anaconda2/lib/python2.7/site-packages (from matplotlib) (2.8.0)\n",
      "Requirement already satisfied: pytz in /opt/anaconda2/lib/python2.7/site-packages (from matplotlib) (2019.3)\n",
      "Requirement already satisfied: six>=1.10 in /opt/anaconda2/lib/python2.7/site-packages (from matplotlib) (1.12.0)\n",
      "Requirement already satisfied: kiwisolver>=1.0.1 in /opt/anaconda2/lib/python2.7/site-packages (from matplotlib) (1.1.0)\n",
      "Requirement already satisfied: backports.functools_lru_cache in /opt/anaconda2/lib/python2.7/site-packages (from matplotlib) (1.5)\n",
      "Requirement already satisfied: subprocess32 in /opt/anaconda2/lib/python2.7/site-packages (from matplotlib) (3.5.4)\n",
      "Requirement already satisfied: setuptools in /opt/anaconda2/lib/python2.7/site-packages (from kiwisolver>=1.0.1->matplotlib) (41.4.0)\n"
     ]
    }
   ],
   "source": [
    "!{sys.executable} -m pip install pandas\n",
    "!{sys.executable} -m pip install numpy\n",
    "!{sys.executable} -m pip install matplotlib"
   ]
  },
  {
   "cell_type": "code",
   "execution_count": 3,
   "metadata": {},
   "outputs": [],
   "source": [
    "import pandas as pd # dataframes\n",
    "import numpy as np # math\n",
    "import matplotlib.pyplot as plt # plotting library"
   ]
  },
  {
   "cell_type": "code",
   "execution_count": 4,
   "metadata": {},
   "outputs": [
    {
     "name": "stdout",
     "output_type": "stream",
     "text": [
      "Python 3.7.7\r\n"
     ]
    }
   ],
   "source": [
    "#Check Python version \n",
    "!Python --version"
   ]
  },
  {
   "cell_type": "markdown",
   "metadata": {},
   "source": [
    "### Plot a simple bar chart using Matplotlib "
   ]
  },
  {
   "cell_type": "code",
   "execution_count": 5,
   "metadata": {},
   "outputs": [
    {
     "data": {
      "image/png": "[encoded data removed]",
      "text/plain": [
       "<Figure size 432x288 with 1 Axes>"
      ]
     },
     "metadata": {
      "needs_background": "light"
     },
     "output_type": "display_data"
    }
   ],
   "source": [
    "x_value = ('Audi', 'BMW', 'Jeep', 'Toyota')\n",
    "y_value = [10,20,15,3]\n",
    "\n",
    "plt.bar(x_value, y_value, align='center', alpha=0.5)\n",
    "plt.ylabel('Cars sold')\n",
    "plt.title('Cars sold per brand')\n",
    "\n",
    "plt.show()"
   ]
  },
  {
   "cell_type": "code",
   "execution_count": null,
   "metadata": {},
   "outputs": [],
   "source": []
  }
 ],
 "metadata": {
  "kernelspec": {
   "display_name": "Python 2",
   "language": "python",
   "name": "python2"
  },
  "language_info": {
   "codemirror_mode": {
    "name": "ipython",
    "version": 2
   },
   "file_extension": ".py",
   "mimetype": "text/x-python",
   "name": "python",
   "nbconvert_exporter": "python",
   "pygments_lexer": "ipython2",
   "version": "2.7.16"
  }
 },
 "nbformat": 4,
 "nbformat_minor": 2
}
