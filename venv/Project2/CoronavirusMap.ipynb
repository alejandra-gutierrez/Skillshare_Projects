{
 "cells": [
  {
   "cell_type": "code",
   "execution_count": null,
   "metadata": {},
   "outputs": [],
   "source": [
    "import numpy as np\n",
    "import pandas as pd\n",
    "import plotly as py\n",
    "import plotly.express as px\n",
    "import plotly.graph_objs as go\n",
    "from plotly.subplots import make_subplots\n",
    "from tabulate import tabulate\n",
    "import seaborn as sns"
   ]
  },
  {
   "cell_type": "markdown",
   "metadata": {},
   "source": [
    "# 1. Data Exploration"
   ]
  },
  {
   "cell_type": "code",
   "execution_count": null,
   "metadata": {},
   "outputs": [],
   "source": [
    "df = pd.read_csv(\"data/New_Global_Mobility_Report.csv\", low_memory=False)"
   ]
  },
  {
   "cell_type": "code",
   "execution_count": null,
   "metadata": {},
   "outputs": [],
   "source": [
    "df.head()"
   ]
  },
  {
   "cell_type": "code",
   "execution_count": null,
   "metadata": {},
   "outputs": [],
   "source": [
    "df.country_region.unique()"
   ]
  },
  {
   "cell_type": "code",
   "execution_count": null,
   "metadata": {},
   "outputs": [],
   "source": [
    "df.shape"
   ]
  },
  {
   "cell_type": "markdown",
   "metadata": {},
   "source": [
    "# 2. Dataframe Formatting"
   ]
  },
  {
   "cell_type": "markdown",
   "metadata": {},
   "source": [
    "### Rename columns "
   ]
  },
  {
   "cell_type": "code",
   "execution_count": null,
   "metadata": {},
   "outputs": [],
   "source": [
    "df = df.rename(columns={'country_region':'Country'})\n",
    "df = df.rename(columns={'date':'Date'})\n",
    "df = df.rename(columns={'retail_and_recreation_percent_change_from_baseline':'retail'})\n",
    "df = df.rename(columns={'grocery_and_pharmacy_percent_change_from_baseline':'pharmacy'})\n",
    "df = df.rename(columns={'parks_percent_change_from_baseline':'parks'})\n",
    "df = df.rename(columns={'transit_stations_percent_change_from_baseline':'transit_station'})\n",
    "df = df.rename(columns={'workplaces_percent_change_from_baseline':'workplaces'})\n",
    "df = df.rename(columns={'residential_percent_change_from_baseline':'residential'})\n"
   ]
  },
  {
   "cell_type": "markdown",
   "metadata": {},
   "source": [
    "### Delete columns we will not use"
   ]
  },
  {
   "cell_type": "code",
   "execution_count": null,
   "metadata": {},
   "outputs": [],
   "source": [
    "df.drop(['country_region_code','sub_region_1', 'sub_region_2', 'census_fips_code', 'iso_3166_2_code'], axis=1, inplace = True)"
   ]
  },
  {
   "cell_type": "markdown",
   "metadata": {},
   "source": [
    "## Create dataframe1 \n",
    "Only looking at the data of six specific countries"
   ]
  },
  {
   "cell_type": "code",
   "execution_count": null,
   "metadata": {},
   "outputs": [],
   "source": [
    "df1 = df.groupby(['Country','Date']).mean().reset_index()\n",
    "c1 = df1[df1['Country']==\"India\"]\n",
    "c2 = df1[df1['Country']==\"Sweden\"]\n",
    "c3 = df1[df1['Country']==\"United States\"]\n",
    "c4 = df1[df1['Country']==\"New Zealand\"]\n",
    "c5 = df1[df1['Country']==\"France\"]\n",
    "c6 = df1[df1['Country']==\"Italy\"]\n",
    "\n",
    "frames = [c1, c2, c3, c4, c5, c6]\n",
    "df2 = pd.concat(frames)"
   ]
  },
  {
   "cell_type": "markdown",
   "metadata": {},
   "source": [
    "# Plot line graph"
   ]
  },
  {
   "cell_type": "code",
   "execution_count": null,
   "metadata": {},
   "outputs": [],
   "source": [
    "fig = px.line(df2, x=\"Date\", y=\"retail\", title='retail', color = 'Country')\n",
    "fig.show()"
   ]
  },
  {
   "cell_type": "code",
   "execution_count": null,
   "metadata": {},
   "outputs": [],
   "source": [
    "df3 = df.groupby(['Date','Country']).mean().reset_index()"
   ]
  },
  {
   "cell_type": "markdown",
   "metadata": {},
   "source": [
    "# Plot Map\n",
    "This is the linkt to the documentation for mapping on Plotly: https://plotly.com/python/choropleth-maps/"
   ]
  },
  {
   "cell_type": "code",
   "execution_count": null,
   "metadata": {},
   "outputs": [],
   "source": [
    "fig = px.choropleth(df3,\n",
    "                    locations=\"Country\",\n",
    "                    locationmode=\"country names\",\n",
    "                    color=\"retail\",\n",
    "                    hover_name=\"Country\",\n",
    "                    animation_frame=\"Date\",\n",
    "                    range_color=(-100, 50),\n",
    "                    color_continuous_scale=px.colors.diverging.Picnic\n",
    "                    )\n",
    "fig.update_layout(\n",
    "    title_text='Retail ',\n",
    "    title_x=0.5,\n",
    "    geo=dict(\n",
    "        showframe=False,\n",
    "        showcoastlines=False,\n",
    "    ))\n",
    "# fig.show()"
   ]
  },
  {
   "cell_type": "markdown",
   "metadata": {},
   "source": [
    "# Format dataframe before plotting scatter plot"
   ]
  },
  {
   "cell_type": "markdown",
   "metadata": {},
   "source": [
    "### Find mean by country using the groupby( ) function"
   ]
  },
  {
   "cell_type": "code",
   "execution_count": null,
   "metadata": {
    "scrolled": true
   },
   "outputs": [],
   "source": [
    "df_country = df.groupby(['Country'])['retail'].mean().reset_index(name ='Mean_Retail')"
   ]
  },
  {
   "cell_type": "markdown",
   "metadata": {},
   "source": [
    "### Set datetime type\n",
    "The DATETIME type is used for values that contain both date and time parts.\n",
    "\n",
    "It supports a wide variety of time formats such as: \n",
    "* __Year__ : [%Y = 2020] OR [%y = 20] (with or without century)\n",
    "* __Month__ : %m\n",
    "* __Day__ : %d  \n",
    "\n",
    "To create a full date and time combination, we concatenate the time values. \n",
    "* __Year - Month - Date__ ==> 2020-06-27 ==> %Y-%m-%d\n",
    "* __Year / Month / Date__ ==> 20/06/27 ==> %y/%m/%d\n",
    "\n",
    "Examples of multiple datetime formats and variables can be found here: https://www.w3schools.com/python/python_datetime.asp\n"
   ]
  },
  {
   "cell_type": "code",
   "execution_count": null,
   "metadata": {},
   "outputs": [],
   "source": [
    "df_new = df.groupby(['Country', 'Date']).mean().reset_index().sort_values('Date', ascending=False)\n",
    "df_new['Date'] = pd.to_datetime(df_new['Date'], format = '%Y-%m-%d')\n",
    "df_new.set_index('Date', inplace=True)"
   ]
  },
  {
   "cell_type": "markdown",
   "metadata": {},
   "source": [
    "### Truncate dataframe only keep dates after June 15th 2020\n"
   ]
  },
  {
   "cell_type": "code",
   "execution_count": null,
   "metadata": {},
   "outputs": [],
   "source": [
    "df_new = df_new.sort_index()\n",
    "df_truncated = df_new.truncate(before='2020-06-15 00:00:00')\n",
    "df_truncated"
   ]
  },
  {
   "cell_type": "code",
   "execution_count": null,
   "metadata": {},
   "outputs": [],
   "source": [
    "# Find the maximum!!!!!\n",
    "df_truncated = df_truncated.groupby(['Country'])['retail'].mean().reset_index(name ='Maximum')\n",
    "\n",
    "# Merge\n",
    "merged = df_country.merge(df_truncated, left_on='Country', right_on='Country')"
   ]
  },
  {
   "cell_type": "markdown",
   "metadata": {},
   "source": [
    "# Scatter Plot"
   ]
  },
  {
   "cell_type": "code",
   "execution_count": null,
   "metadata": {},
   "outputs": [],
   "source": [
    "fig = px.scatter(merged, x=\"Mean_Retail\", y=\"Maximum\",  labels={'x':'Worst', 'y':'Best'}, size_max=30)\n",
    "fig.show()"
   ]
  }
 ],
 "metadata": {
  "kernelspec": {
   "display_name": "Python 3",
   "language": "python",
   "name": "python3"
  },
  "language_info": {
   "codemirror_mode": {
    "name": "ipython",
    "version": 3
   },
   "file_extension": ".py",
   "mimetype": "text/x-python",
   "name": "python",
   "nbconvert_exporter": "python",
   "pygments_lexer": "ipython3",
   "version": "3.7.1"
  }
 },
 "nbformat": 4,
 "nbformat_minor": 2
}
